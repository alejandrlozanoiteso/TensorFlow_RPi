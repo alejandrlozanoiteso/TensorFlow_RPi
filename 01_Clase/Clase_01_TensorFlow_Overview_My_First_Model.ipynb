{
  "nbformat": 4,
  "nbformat_minor": 0,
  "metadata": {
    "colab": {
      "provenance": []
    },
    "kernelspec": {
      "name": "python3",
      "display_name": "Python 3"
    },
    "language_info": {
      "name": "python"
    }
  },
  "cells": [
    {
      "cell_type": "markdown",
      "source": [
        "#Import Libraries"
      ],
      "metadata": {
        "id": "VV3tDTNIsPTM"
      }
    },
    {
      "cell_type": "code",
      "execution_count": null,
      "metadata": {
        "colab": {
          "base_uri": "https://localhost:8080/"
        },
        "id": "spANrYJrsK7P",
        "outputId": "2ff93675-83b4-4533-8d20-09bc5c174657"
      },
      "outputs": [
        {
          "output_type": "stream",
          "name": "stdout",
          "text": [
            "2.18.0\n"
          ]
        }
      ],
      "source": [
        "import tensorflow as tf\n",
        "\n",
        "print(tf.__version__)"
      ]
    },
    {
      "cell_type": "markdown",
      "source": [
        "#Create Tensors from constants"
      ],
      "metadata": {
        "id": "hnkVExNFsbmX"
      }
    },
    {
      "cell_type": "code",
      "source": [
        "a = tf.constant([1.0, 2.3, 3.14159], dtype=tf.float32);\n",
        "b = ????\n",
        "\n",
        "print(a)\n",
        "print(a.shape)\n",
        "print(a.dtype)\n",
        "\n",
        "print(b)"
      ],
      "metadata": {
        "id": "s06n4RpdskUt"
      },
      "execution_count": null,
      "outputs": []
    },
    {
      "cell_type": "markdown",
      "source": [
        "#Operators with Tensors"
      ],
      "metadata": {
        "id": "rs2qkixhtWDz"
      }
    },
    {
      "cell_type": "code",
      "source": [
        "tf.reduce_sum(a)"
      ],
      "metadata": {
        "id": "oP5Qq-cXxOgK"
      },
      "execution_count": null,
      "outputs": []
    },
    {
      "cell_type": "code",
      "source": [
        "a+b"
      ],
      "metadata": {
        "id": "N7Ef0OQutbAH"
      },
      "execution_count": null,
      "outputs": []
    },
    {
      "cell_type": "code",
      "source": [
        "c= tf.add(a,b)\n",
        "c"
      ],
      "metadata": {
        "id": "BFwCSheitcym"
      },
      "execution_count": null,
      "outputs": []
    },
    {
      "cell_type": "code",
      "source": [
        "a * b"
      ],
      "metadata": {
        "id": "1vfPwcc1tkMd"
      },
      "execution_count": null,
      "outputs": []
    },
    {
      "cell_type": "code",
      "source": [
        "a = tf.reshape(a, [1,3])\n",
        "a"
      ],
      "metadata": {
        "id": "Aik_qxdHuFav"
      },
      "execution_count": null,
      "outputs": []
    },
    {
      "cell_type": "code",
      "source": [
        "at = tf.transpose(a)\n",
        "at"
      ],
      "metadata": {
        "id": "1JPaWF4DuOJs"
      },
      "execution_count": null,
      "outputs": []
    },
    {
      "cell_type": "code",
      "source": [
        "b = tf.reshape(b, [1,3])"
      ],
      "metadata": {
        "id": "6zOoU7D7upxy"
      },
      "execution_count": null,
      "outputs": []
    },
    {
      "cell_type": "code",
      "source": [
        "dot_b_at = b @ at\n",
        "dot_b_at"
      ],
      "metadata": {
        "id": "hSheqyPXu9LU"
      },
      "execution_count": null,
      "outputs": []
    },
    {
      "cell_type": "code",
      "source": [
        "x = tf.constant([[[ -1,  -2,  -3],\n",
        "...                   [ -4,  -5, -6]],\n",
        "...                  [[ 7,  8,  9],\n",
        "...                   [10, 11, 12]]], dtype=tf.float32)\n",
        "x"
      ],
      "metadata": {
        "id": "4wQyOn_avqMI"
      },
      "execution_count": null,
      "outputs": []
    },
    {
      "cell_type": "code",
      "source": [
        "tf.transpose(x, perm=[0, 2, 1])"
      ],
      "metadata": {
        "id": "TdbXtNXyvy4g"
      },
      "execution_count": null,
      "outputs": []
    },
    {
      "cell_type": "code",
      "source": [
        "y = tf.nn.sigmoid(x)\n",
        "y"
      ],
      "metadata": {
        "id": "PPay-9ciwJE3"
      },
      "execution_count": null,
      "outputs": []
    },
    {
      "cell_type": "code",
      "source": [
        "tf.nn.relu(x)"
      ],
      "metadata": {
        "id": "Y78_Oynuwkwz"
      },
      "execution_count": null,
      "outputs": []
    },
    {
      "cell_type": "code",
      "source": [
        "tf.reduce_sum(y, axis=[2])"
      ],
      "metadata": {
        "id": "vNWgQdznnUbh"
      },
      "execution_count": null,
      "outputs": []
    },
    {
      "cell_type": "markdown",
      "source": [
        "#Variables"
      ],
      "metadata": {
        "id": "J_suevi3wsj5"
      }
    },
    {
      "cell_type": "code",
      "source": [
        "var = tf.Variable([0,0,0], dtype=tf.float32)\n",
        "var.assign([1,2,3])\n",
        "var.assign_sub([0.1, 0.2, 0.3])\n",
        "print(var)"
      ],
      "metadata": {
        "id": "N1bWhZn-wuX1"
      },
      "execution_count": null,
      "outputs": []
    },
    {
      "cell_type": "markdown",
      "source": [
        "#Creating tf.function\n",
        "This creates a graph for each function"
      ],
      "metadata": {
        "id": "yxK-iY_g2KFe"
      }
    },
    {
      "cell_type": "code",
      "source": [
        "w1 = tf.Variable(tf.random.uniform(shape=[1,10],dtype=tf.float32))"
      ],
      "metadata": {
        "id": "vS7V9dZv5NTM"
      },
      "execution_count": null,
      "outputs": []
    },
    {
      "cell_type": "code",
      "source": [
        "@tf.function(input_signature=[tf.TensorSpec(shape=(1,10), dtype=tf.float32)])\n",
        "def my_inference(x):\n",
        "  print(\"Entering to Graph\");\n",
        "  print(x)\n",
        "  return tf.reduce_sum(x*w1)"
      ],
      "metadata": {
        "id": "cTIRB1Sv2eMl"
      },
      "execution_count": null,
      "outputs": []
    },
    {
      "cell_type": "code",
      "source": [
        "input = tf.constant([[1,2,3,4,5,6,7,8,9,0]], dtype=tf.float32)\n",
        "out = my_inference(input)\n",
        "out"
      ],
      "metadata": {
        "id": "T0n1wBoW47CQ"
      },
      "execution_count": null,
      "outputs": []
    },
    {
      "cell_type": "markdown",
      "source": [
        "First time log was printed... check the second execution.... log was not printed"
      ],
      "metadata": {
        "id": "OR5shg_l5_7m"
      }
    },
    {
      "cell_type": "code",
      "source": [
        "out = my_inference(input)\n",
        "out"
      ],
      "metadata": {
        "id": "tbjgJugO58jJ"
      },
      "execution_count": null,
      "outputs": []
    },
    {
      "cell_type": "markdown",
      "source": [
        "#Automatic Differentiation for model y = Ax"
      ],
      "metadata": {
        "id": "ndt7pba-8gxP"
      }
    },
    {
      "cell_type": "code",
      "source": [
        "A = tf.Variable(tf.random.uniform(shape=[3,2],dtype=tf.float32))\n",
        "A"
      ],
      "metadata": {
        "id": "luJjvFmZ9P81"
      },
      "execution_count": null,
      "outputs": []
    },
    {
      "cell_type": "code",
      "source": [
        "@tf.function(input_signature=[tf.TensorSpec(shape=(2,1), dtype=tf.float32)])\n",
        "def my_linear_function(x):\n",
        "  return ??"
      ],
      "metadata": {
        "id": "PCrLh2et-VkY"
      },
      "execution_count": null,
      "outputs": []
    },
    {
      "cell_type": "code",
      "source": [
        "x_input = tf.Variable([[10],[20]], shape=(2,1), dtype=tf.float32)"
      ],
      "metadata": {
        "id": "2izmqdnM-aab"
      },
      "execution_count": null,
      "outputs": []
    },
    {
      "cell_type": "code",
      "source": [
        "out = my_linear_function(x_input)\n",
        "out"
      ],
      "metadata": {
        "id": "c-3CkCep-6EK"
      },
      "execution_count": null,
      "outputs": []
    },
    {
      "cell_type": "code",
      "source": [
        "with tf.GradientTape() as tape:\n",
        "  f = my_linear_function(x_input)\n",
        "\n",
        "g_x = tape.gradient(f, x_input)  # g(x) = df/x = A\n"
      ],
      "metadata": {
        "id": "wVjg41qj8U_W"
      },
      "execution_count": null,
      "outputs": []
    },
    {
      "cell_type": "markdown",
      "source": [
        "#Does Gradient shape make sense?"
      ],
      "metadata": {
        "id": "XWqRrN-_MAXK"
      }
    },
    {
      "cell_type": "code",
      "source": [
        "g_x"
      ],
      "metadata": {
        "id": "MFuzNe_y8xBp"
      },
      "execution_count": null,
      "outputs": []
    },
    {
      "cell_type": "code",
      "source": [
        "A"
      ],
      "metadata": {
        "id": "kbwXHEKkIYpw"
      },
      "execution_count": null,
      "outputs": []
    },
    {
      "cell_type": "markdown",
      "source": [
        "#Solve Simple Linear Regression with Algebra\n",
        "# Ax = y"
      ],
      "metadata": {
        "id": "VOwgFAMkMx3k"
      }
    },
    {
      "cell_type": "markdown",
      "source": [
        "Let's create random data:"
      ],
      "metadata": {
        "id": "LMAQgw7tnGgb"
      }
    },
    {
      "cell_type": "code",
      "source": [
        "from matplotlib import pyplot as plt\n",
        "\n",
        "t = tf.linspace(-5,5,201)\n",
        "t = tf.cast(t, dtype=tf.float32)\n",
        "\n",
        "def linear(x_axis, slope, intersection):\n",
        "  y = ??\n",
        "  return y\n",
        "\n",
        "y = linear(t, 5, 5) + tf.random.normal(shape=[201], stddev=5.0)\n",
        "plt.plot(t.numpy(), linear(t,5,5))\n",
        "plt.plot(t.numpy(), y.numpy(), '.')"
      ],
      "metadata": {
        "id": "9LvTLlBWNMty"
      },
      "execution_count": null,
      "outputs": []
    },
    {
      "cell_type": "code",
      "source": [
        "ones = tf.ones(shape=[201])\n",
        "t_t = tf.reshape(t, [201,1])\n",
        "y_t = tf.reshape(y, [201,1])\n",
        "ones = tf.reshape(ones, [201,1])\n",
        "A = tf.concat([t_t, ones], 1);"
      ],
      "metadata": {
        "id": "lpBCS2fGpIL8"
      },
      "execution_count": null,
      "outputs": []
    },
    {
      "cell_type": "markdown",
      "source": [
        "Solution using Algebra:\n",
        "\n",
        "$Ax = y$\n",
        "\n",
        "$A^tAx = A^ty$\n",
        "\n",
        "$(A^tA)^{-1} A^tAx = (A^t A)^{-1} A^t y$\n",
        "\n",
        "$x =  (A^tA)^{-1} A^t y$\n"
      ],
      "metadata": {
        "id": "xKG_qQC3ssxp"
      }
    },
    {
      "cell_type": "code",
      "source": [
        "sol = ??"
      ],
      "metadata": {
        "id": "QRsBxyf2swbo"
      },
      "execution_count": null,
      "outputs": []
    },
    {
      "cell_type": "markdown",
      "source": [
        "Our solution using algebra is:"
      ],
      "metadata": {
        "id": "pdlUkf1HwLMB"
      }
    },
    {
      "cell_type": "code",
      "source": [
        "sol"
      ],
      "metadata": {
        "id": "s01PiIIeth9T"
      },
      "execution_count": null,
      "outputs": []
    },
    {
      "cell_type": "markdown",
      "source": [
        "#Creating Linear model using tf.Module"
      ],
      "metadata": {
        "id": "ejRc7Qzlx56g"
      }
    },
    {
      "cell_type": "code",
      "source": [
        "class LinearModel(tf.Module):\n",
        "  #def __init__(self):\n",
        "  def __init__(self, name=None):\n",
        "    super().__init__(name=name)\n",
        "    initial_w = tf.random.uniform(shape=[??], minval=-1.0, maxval=1.0)\n",
        "    self.x1 = tf.Variable(initial_w[1])\n",
        "    self.x0 = tf.Variable(initial_w[0])\n",
        "\n",
        "  @tf.function(input_signature=[tf.TensorSpec(shape=[None], dtype=tf.float32)])\n",
        "  def __call__(self, x):\n",
        "    return ??\n"
      ],
      "metadata": {
        "id": "Ns8RgUzoyBTK"
      },
      "execution_count": null,
      "outputs": []
    },
    {
      "cell_type": "markdown",
      "source": [
        "#Watch graph of our model"
      ],
      "metadata": {
        "id": "M0vZnW5Oct4E"
      }
    },
    {
      "cell_type": "code",
      "source": [
        "%load_ext tensorboard\n",
        "from datetime import datetime\n",
        "# Set up logging.\n",
        "stamp = datetime.now().strftime(\"%Y%m%d-%H%M%S\")\n",
        "logdir = \"logs/func/%s\" % stamp\n",
        "writer = tf.summary.create_file_writer(logdir)\n",
        "\n",
        "# Create a new model to get a fresh trace\n",
        "# Otherwise the summary will not see the graph.\n",
        "new_model = LinearModel()\n",
        "\n",
        "# Bracket the function call with\n",
        "# tf.summary.trace_on() and tf.summary.trace_export().\n",
        "tf.summary.trace_on(graph=True)\n",
        "tf.profiler.experimental.start(logdir)\n",
        "# Call only one tf.function when tracing.\n",
        "z = print(new_model(tf.constant([2.0], dtype=tf.float32)))\n",
        "with writer.as_default():\n",
        "  tf.summary.trace_export(\n",
        "      name=\"my_func_trace\",\n",
        "      step=0,\n",
        "      profiler_outdir=logdir)\n",
        "%tensorboard --logdir logs/func"
      ],
      "metadata": {
        "id": "HBew-AErcyRz"
      },
      "execution_count": null,
      "outputs": []
    },
    {
      "cell_type": "markdown",
      "source": [
        "Let's use untrained model"
      ],
      "metadata": {
        "id": "u8GcNZjr0lG9"
      }
    },
    {
      "cell_type": "code",
      "source": [
        "linear_model = LinearModel()\n",
        "\n",
        "predictions = linear_model(t)\n",
        "\n",
        "plt.plot(t, predictions, label= 'Predictions')\n",
        "plt.plot(t, linear(t, 5,5), label='Truth' )\n",
        "plt.legend()"
      ],
      "metadata": {
        "id": "KJQP6O9-0nhw"
      },
      "execution_count": null,
      "outputs": []
    },
    {
      "cell_type": "markdown",
      "source": [
        "#Training our model\n",
        "\n",
        "$MSE = \\frac{1}{m}\\sum_{i=1}^{m}(\\hat{y}_i -y_i)^2$"
      ],
      "metadata": {
        "id": "O6eYaOTS19MW"
      }
    },
    {
      "cell_type": "code",
      "source": [
        "def mse(pred, y):\n",
        "  return ???"
      ],
      "metadata": {
        "id": "8-9ETbUV3lbw"
      },
      "execution_count": null,
      "outputs": []
    },
    {
      "cell_type": "markdown",
      "source": [
        "Let's use chunks of data (batches/mini-batches)"
      ],
      "metadata": {
        "id": "rOf1QCsF3sDC"
      }
    },
    {
      "cell_type": "code",
      "source": [
        "batch_size = 16\n",
        "dataset = tf.data.Dataset.from_tensor_slices((t, y))\n",
        "dataset = dataset.shuffle(201).batch(batch_size)"
      ],
      "metadata": {
        "id": "QphZM7Q13yOO"
      },
      "execution_count": null,
      "outputs": []
    },
    {
      "cell_type": "markdown",
      "source": [
        "Lest create a loop to:\n",
        "\n",
        "\n",
        "*   Infer on each batch\n",
        "*   Save gradients\n",
        "*   Apply gradients to internal variables\n",
        "\n",
        "\n",
        "\n"
      ],
      "metadata": {
        "id": "EglWf-ak5KIw"
      }
    },
    {
      "cell_type": "code",
      "source": [
        "epochs = 50\n",
        "\n",
        "for epoch in range(epochs):\n",
        "  for x_batch, y_batch in dataset:\n",
        "    with tf.GradientTape() as tape:\n",
        "      batch_loss = mse(???)\n",
        "\n",
        "    # Update parameters with respect to the gradient calculations\n",
        "    grads = tape.gradient(batch_loss, linear_model.variables)\n",
        "    for g,v in zip(grads, linear_model.variables):\n",
        "        v.assign_sub(0.0001*g)\n",
        "  # Keep track of model loss per epoch\n",
        "  loss = mse(linear_model(t), y)\n",
        "  print(f\"Epoch {epoch} Loss  is {loss.numpy()}\",)\n"
      ],
      "metadata": {
        "id": "gm-FE6T85cfW"
      },
      "execution_count": null,
      "outputs": []
    },
    {
      "cell_type": "markdown",
      "source": [
        "Let's print our internal variables"
      ],
      "metadata": {
        "id": "eqlRV5EH9hRh"
      }
    },
    {
      "cell_type": "code",
      "source": [
        "print(linear_model.variables)"
      ],
      "metadata": {
        "id": "OsSPm0T_71vf"
      },
      "execution_count": null,
      "outputs": []
    },
    {
      "cell_type": "markdown",
      "source": [
        "#Let's save model and transform to tf-lite model"
      ],
      "metadata": {
        "id": "alEajSse-KUv"
      }
    },
    {
      "cell_type": "code",
      "source": [
        "tf.saved_model.save(linear_model, \"/tmp/linear/\")\n",
        "converter = tf.lite.TFLiteConverter.from_saved_model(\"/tmp/linear\")\n",
        "\n",
        "tflite_model = converter.convert()\n",
        "\n",
        "with open('linear_model.tflite', 'wb') as f:\n",
        "  f.write(tflite_model)"
      ],
      "metadata": {
        "id": "3_qoYA5Z-Ov3"
      },
      "execution_count": null,
      "outputs": []
    }
  ]
}